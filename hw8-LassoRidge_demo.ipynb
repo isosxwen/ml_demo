{
 "cells": [
  {
   "cell_type": "markdown",
   "metadata": {
    "colab_type": "text",
    "id": "RuwsvqZKYWYV"
   },
   "source": [
    "### Python Implementation"
   ]
  },
  {
   "cell_type": "markdown",
   "metadata": {
    "colab_type": "text",
    "id": "i1YGUKhjYciB"
   },
   "source": [
    "\n",
    "\n",
    "*   **Ridge and Lasso regression. http://www.science.smith.edu/~jcrouser/SDS293/labs/lab10-py.html**\n",
    " \n",
    "* **Prepare a data set from the credit scores data set you used in the previous homework, for this regression implementation.** \n",
    " \n",
    "* **Using Python, implement Ridge and Lasso regression following the tutorial. Explain the results.**"
   ]
  },
  {
   "cell_type": "code",
   "execution_count": 2,
   "metadata": {
    "colab": {},
    "colab_type": "code",
    "id": "wvmM30JjYzi9"
   },
   "outputs": [],
   "source": [
    "import pandas as pd\n",
    "import numpy as np\n",
    "\n",
    "df = pd.read_csv('creditset.csv')"
   ]
  },
  {
   "cell_type": "code",
   "execution_count": 3,
   "metadata": {},
   "outputs": [
    {
     "data": {
      "text/html": [
       "<div>\n",
       "<table border=\"1\" class=\"dataframe\">\n",
       "  <thead>\n",
       "    <tr style=\"text-align: right;\">\n",
       "      <th></th>\n",
       "      <th>clientid</th>\n",
       "      <th>income</th>\n",
       "      <th>age</th>\n",
       "      <th>loan</th>\n",
       "      <th>LTI</th>\n",
       "      <th>default10yr</th>\n",
       "    </tr>\n",
       "  </thead>\n",
       "  <tbody>\n",
       "    <tr>\n",
       "      <th>0</th>\n",
       "      <td>1</td>\n",
       "      <td>66155.925095</td>\n",
       "      <td>59.017015</td>\n",
       "      <td>8106.532131</td>\n",
       "      <td>0.122537</td>\n",
       "      <td>0</td>\n",
       "    </tr>\n",
       "    <tr>\n",
       "      <th>1</th>\n",
       "      <td>2</td>\n",
       "      <td>34415.153966</td>\n",
       "      <td>48.117153</td>\n",
       "      <td>6564.745018</td>\n",
       "      <td>0.190752</td>\n",
       "      <td>0</td>\n",
       "    </tr>\n",
       "    <tr>\n",
       "      <th>2</th>\n",
       "      <td>3</td>\n",
       "      <td>57317.170063</td>\n",
       "      <td>63.108049</td>\n",
       "      <td>8020.953296</td>\n",
       "      <td>0.139940</td>\n",
       "      <td>0</td>\n",
       "    </tr>\n",
       "    <tr>\n",
       "      <th>3</th>\n",
       "      <td>4</td>\n",
       "      <td>42709.534201</td>\n",
       "      <td>45.751972</td>\n",
       "      <td>6103.642260</td>\n",
       "      <td>0.142911</td>\n",
       "      <td>0</td>\n",
       "    </tr>\n",
       "    <tr>\n",
       "      <th>4</th>\n",
       "      <td>5</td>\n",
       "      <td>66952.688845</td>\n",
       "      <td>18.584336</td>\n",
       "      <td>8770.099235</td>\n",
       "      <td>0.130989</td>\n",
       "      <td>1</td>\n",
       "    </tr>\n",
       "  </tbody>\n",
       "</table>\n",
       "</div>"
      ],
      "text/plain": [
       "   clientid        income        age         loan       LTI  default10yr\n",
       "0         1  66155.925095  59.017015  8106.532131  0.122537            0\n",
       "1         2  34415.153966  48.117153  6564.745018  0.190752            0\n",
       "2         3  57317.170063  63.108049  8020.953296  0.139940            0\n",
       "3         4  42709.534201  45.751972  6103.642260  0.142911            0\n",
       "4         5  66952.688845  18.584336  8770.099235  0.130989            1"
      ]
     },
     "execution_count": 3,
     "metadata": {},
     "output_type": "execute_result"
    }
   ],
   "source": [
    "df.head()"
   ]
  },
  {
   "cell_type": "code",
   "execution_count": 4,
   "metadata": {},
   "outputs": [],
   "source": [
    "X = df.drop('default10yr', axis=1)\n",
    "y = df['default10yr']"
   ]
  },
  {
   "cell_type": "code",
   "execution_count": 5,
   "metadata": {},
   "outputs": [],
   "source": [
    "from sklearn.model_selection import train_test_split\n",
    "from sklearn.linear_model import*\n",
    "import matplotlib.pyplot as plt\n",
    "%matplotlib inline"
   ]
  },
  {
   "cell_type": "code",
   "execution_count": 6,
   "metadata": {},
   "outputs": [],
   "source": [
    "# train test split\n",
    "X_train, X_test, y_train, y_test = train_test_split(X, y, test_size = 0.2, random_state=123)"
   ]
  },
  {
   "cell_type": "markdown",
   "metadata": {},
   "source": [
    "**Linear Regression**"
   ]
  },
  {
   "cell_type": "code",
   "execution_count": 7,
   "metadata": {},
   "outputs": [],
   "source": [
    "lr = LinearRegression()\n",
    "\n",
    "lr.fit(X_train, y_train)\n",
    "lr_train_score = lr.score(X_train, y_train)\n",
    "lr_test_score = lr.score(X_test, y_test)"
   ]
  },
  {
   "cell_type": "code",
   "execution_count": 8,
   "metadata": {},
   "outputs": [
    {
     "name": "stdout",
     "output_type": "stream",
     "text": [
      "LR Train Score: 0.38\n",
      "LR Test Score: 0.44\n"
     ]
    }
   ],
   "source": [
    "print(\"LR Train Score: {:0.2f}\\nLR Test Score: {:0.2f}\".format(lr_train_score, lr_test_score))"
   ]
  },
  {
   "cell_type": "markdown",
   "metadata": {},
   "source": [
    "**Ridge**"
   ]
  },
  {
   "cell_type": "code",
   "execution_count": 9,
   "metadata": {},
   "outputs": [],
   "source": [
    "# setting tuning parameter to 0.01 -> reduced effect of penalty term\n",
    "ridge001 = Ridge(alpha = 0.01)\n",
    "\n",
    "# setting tuning parameter to 100 -> amplified effect of penalty term\n",
    "ridge100 = Ridge(alpha = 100)"
   ]
  },
  {
   "cell_type": "code",
   "execution_count": 10,
   "metadata": {},
   "outputs": [],
   "source": [
    "ridge001.fit(X_train, y_train)\n",
    "r001_train_score = ridge001.score(X_train, y_train)\n",
    "r001_test_score = ridge001.score(X_test, y_test)\n",
    "\n",
    "ridge100.fit(X_train, y_train)\n",
    "r100_train_score = ridge100.score(X_train, y_train)\n",
    "r100_test_score = ridge100.score(X_test, y_test)"
   ]
  },
  {
   "cell_type": "code",
   "execution_count": 11,
   "metadata": {},
   "outputs": [
    {
     "name": "stdout",
     "output_type": "stream",
     "text": [
      "RR001 Train Score: 0.38\n",
      "RR001 Test Score: 0.44\n",
      "\n",
      "RR100 Train Score: 0.37\n",
      "RR100 Test Score: 0.43\n"
     ]
    }
   ],
   "source": [
    "print(\"RR001 Train Score: {:0.2f}\\nRR001 Test Score: {:0.2f}\".format(r001_train_score, r001_test_score))\n",
    "print(\"\\nRR100 Train Score: {:0.2f}\\nRR100 Test Score: {:0.2f}\".format(r100_train_score, r100_test_score))"
   ]
  },
  {
   "cell_type": "markdown",
   "metadata": {},
   "source": [
    "**Lasso**"
   ]
  },
  {
   "cell_type": "code",
   "execution_count": 12,
   "metadata": {},
   "outputs": [],
   "source": [
    "# setting tuning parameter to 0.01 -> reduced effect of penalty term\n",
    "lasso001 = Lasso(alpha=0.01, max_iter=10e5)\n",
    "\n",
    "# setting tuning parameter to 0.0001 -> further reduced effect of penalty term\n",
    "lasso00001 = Lasso(alpha=0.0001, max_iter=10e5)"
   ]
  },
  {
   "cell_type": "code",
   "execution_count": 13,
   "metadata": {},
   "outputs": [],
   "source": [
    "lasso001.fit(X_train, y_train)\n",
    "l001_train_score = lasso001.score(X_train, y_train)\n",
    "l001_test_score = lasso001.score(X_test, y_test)\n",
    "\n",
    "lasso00001.fit(X_train, y_train)\n",
    "l00001_train_score = lasso00001.score(X_train, y_train)\n",
    "l00001_test_score = lasso00001.score(X_test, y_test)\n"
   ]
  },
  {
   "cell_type": "code",
   "execution_count": 14,
   "metadata": {},
   "outputs": [
    {
     "name": "stdout",
     "output_type": "stream",
     "text": [
      "Lasso001 Train Score: 0.37\n",
      "Lasso001 Test Score: 0.43\n",
      "\n",
      "Lasso00001 Train Score: 0.38\n",
      "Lasso00001 Test Score: 0.44\n",
      "\n",
      "Total # of Features: 5\n",
      "Lasso selected # of features: 4\n"
     ]
    }
   ],
   "source": [
    "print(\"Lasso001 Train Score: {:0.2f}\\nLasso001 Test Score: {:0.2f}\".format(l001_train_score, l001_test_score))\n",
    "print(\"\\nLasso00001 Train Score: {:0.2f}\\nLasso00001 Test Score: {:0.2f}\".format(l00001_train_score, l00001_test_score))\n",
    "print(\"\\nTotal # of Features: {}\\nLasso selected # of features: {}\".format(X_train.shape[1], np.sum(lasso001.coef_!=0)))"
   ]
  },
  {
   "cell_type": "markdown",
   "metadata": {},
   "source": [
    "*_LR, Ridge, Lasso Test Score Observation_*\n",
    "\n",
    "* All three methods scored around the same in terms of both training and testing prediction accuracies"
   ]
  },
  {
   "cell_type": "markdown",
   "metadata": {},
   "source": [
    "**Comparisons of coefficients**"
   ]
  },
  {
   "cell_type": "code",
   "execution_count": 15,
   "metadata": {},
   "outputs": [
    {
     "data": {
      "text/plain": [
       "Text(0.5,1,'LR & Lasso Coefficients')"
      ]
     },
     "execution_count": 15,
     "metadata": {},
     "output_type": "execute_result"
    },
    {
     "data": {
      "image/png": "[encoded data removed]",
      "text/plain": [
       "<matplotlib.figure.Figure at 0x7fd155d7fc18>"
      ]
     },
     "metadata": {},
     "output_type": "display_data"
    }
   ],
   "source": [
    "plt.subplot(1, 2, 1)\n",
    "\n",
    "plt.plot(lr.coef_, label = 'LR', linestyle='none', marker='*', color = 'g', alpha=0.5)\n",
    "plt.plot(ridge001.coef_, label = 'Ridge001', linestyle='none', marker='d', color = 'r', alpha=0.5)\n",
    "plt.plot(ridge100.coef_, label = 'Ridge100', linestyle='none', marker='o', color = 'b', alpha=0.5)\n",
    "\n",
    "plt.xlabel('coef index')\n",
    "plt.ylabel('coef value')\n",
    "plt.legend(loc=2)\n",
    "plt.title('LR & Ridge Coefficients')\n",
    "\n",
    "plt.subplot(1, 2, 2)\n",
    "\n",
    "plt.plot(lr.coef_, label = 'LR', linestyle='none', marker='*', color = 'g', alpha=0.5)\n",
    "plt.plot(lasso001.coef_, label = 'Lasso001', linestyle='none', marker='d', color = 'r', alpha=0.5)\n",
    "plt.plot(lasso00001.coef_, label = 'Lasso00001', linestyle='none', marker='o', color = 'b', alpha=0.5)\n",
    "\n",
    "plt.xlabel('coef index')\n",
    "plt.ylabel('coef value')\n",
    "plt.legend(loc=2)\n",
    "plt.title('LR & Lasso Coefficients')"
   ]
  },
  {
   "cell_type": "markdown",
   "metadata": {},
   "source": [
    "*_Observation_*\n",
    "\n",
    "* In LR vs. Ridge coefficients, by setting the tuning parameter to 0.01, the coefficients do not appear to be signficantly reduced or minimized compared to that of a regular LR.  Whereas by increasing the parameter to 100, the coefficient of the last feature is suppressed to near 0 if not exactly 0.\n",
    "\n",
    "\n",
    "* In LR vs. Lasso coefficients, by setting the tuning parameter to 0.01, the coefficient of the last features almost becomes 0 if not exactly; in comparision, Lasso method seems to have a greater effect on regularizing flexibility of a model.\n"
   ]
  }
 ],
 "metadata": {
  "colab": {
   "collapsed_sections": [],
   "name": "hw8.ipynb",
   "provenance": [],
   "version": "0.3.2"
  },
  "kernelspec": {
   "display_name": "Python 3",
   "language": "python",
   "name": "python3"
  },
  "language_info": {
   "codemirror_mode": {
    "name": "ipython",
    "version": 3
   },
   "file_extension": ".py",
   "mimetype": "text/x-python",
   "name": "python",
   "nbconvert_exporter": "python",
   "pygments_lexer": "ipython3",
   "version": "3.7.3"
  }
 },
 "nbformat": 4,
 "nbformat_minor": 1
}
