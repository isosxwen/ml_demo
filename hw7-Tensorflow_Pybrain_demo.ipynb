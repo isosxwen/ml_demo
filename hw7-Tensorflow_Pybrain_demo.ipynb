{
 "cells": [
  {
   "cell_type": "markdown",
   "metadata": {},
   "source": [
    "##### Tensorflow"
   ]
  },
  {
   "cell_type": "code",
   "execution_count": 243,
   "metadata": {},
   "outputs": [],
   "source": [
    "import pandas as pd\n",
    "import numpy as np"
   ]
  },
  {
   "cell_type": "code",
   "execution_count": 244,
   "metadata": {},
   "outputs": [],
   "source": [
    "df = pd.read_csv('wine.data', header=None)"
   ]
  },
  {
   "cell_type": "code",
   "execution_count": 245,
   "metadata": {},
   "outputs": [
    {
     "data": {
      "text/plain": [
       "2    71\n",
       "1    59\n",
       "3    48\n",
       "Name: 0, dtype: int64"
      ]
     },
     "execution_count": 245,
     "metadata": {},
     "output_type": "execute_result"
    }
   ],
   "source": [
    "df[0].value_counts()"
   ]
  },
  {
   "cell_type": "code",
   "execution_count": 246,
   "metadata": {},
   "outputs": [],
   "source": [
    "df.columns = list(pd.read_csv('wine_colnames.data', header=None).T.iloc[0])"
   ]
  },
  {
   "cell_type": "code",
   "execution_count": 247,
   "metadata": {
    "scrolled": true
   },
   "outputs": [
    {
     "data": {
      "text/html": [
       "<div>\n",
       "<style scoped>\n",
       "    .dataframe tbody tr th:only-of-type {\n",
       "        vertical-align: middle;\n",
       "    }\n",
       "\n",
       "    .dataframe tbody tr th {\n",
       "        vertical-align: top;\n",
       "    }\n",
       "\n",
       "    .dataframe thead th {\n",
       "        text-align: right;\n",
       "    }\n",
       "</style>\n",
       "<table border=\"1\" class=\"dataframe\">\n",
       "  <thead>\n",
       "    <tr style=\"text-align: right;\">\n",
       "      <th></th>\n",
       "      <th>Class</th>\n",
       "      <th>Alcohol</th>\n",
       "      <th>MalicAcid</th>\n",
       "      <th>Ash</th>\n",
       "      <th>AlcalinityOfAsh</th>\n",
       "      <th>Magnesium</th>\n",
       "      <th>TotalPhenols</th>\n",
       "      <th>Flavanoids</th>\n",
       "      <th>Nonflavanoid</th>\n",
       "      <th>Proanthocyanins</th>\n",
       "      <th>ColorIntensity</th>\n",
       "      <th>Hue</th>\n",
       "      <th>OD280OD315</th>\n",
       "      <th>Proline</th>\n",
       "    </tr>\n",
       "  </thead>\n",
       "  <tbody>\n",
       "    <tr>\n",
       "      <th>0</th>\n",
       "      <td>1</td>\n",
       "      <td>14.23</td>\n",
       "      <td>1.71</td>\n",
       "      <td>2.43</td>\n",
       "      <td>15.6</td>\n",
       "      <td>127</td>\n",
       "      <td>2.80</td>\n",
       "      <td>3.06</td>\n",
       "      <td>0.28</td>\n",
       "      <td>2.29</td>\n",
       "      <td>5.64</td>\n",
       "      <td>1.04</td>\n",
       "      <td>3.92</td>\n",
       "      <td>1065</td>\n",
       "    </tr>\n",
       "    <tr>\n",
       "      <th>1</th>\n",
       "      <td>1</td>\n",
       "      <td>13.20</td>\n",
       "      <td>1.78</td>\n",
       "      <td>2.14</td>\n",
       "      <td>11.2</td>\n",
       "      <td>100</td>\n",
       "      <td>2.65</td>\n",
       "      <td>2.76</td>\n",
       "      <td>0.26</td>\n",
       "      <td>1.28</td>\n",
       "      <td>4.38</td>\n",
       "      <td>1.05</td>\n",
       "      <td>3.40</td>\n",
       "      <td>1050</td>\n",
       "    </tr>\n",
       "    <tr>\n",
       "      <th>2</th>\n",
       "      <td>1</td>\n",
       "      <td>13.16</td>\n",
       "      <td>2.36</td>\n",
       "      <td>2.67</td>\n",
       "      <td>18.6</td>\n",
       "      <td>101</td>\n",
       "      <td>2.80</td>\n",
       "      <td>3.24</td>\n",
       "      <td>0.30</td>\n",
       "      <td>2.81</td>\n",
       "      <td>5.68</td>\n",
       "      <td>1.03</td>\n",
       "      <td>3.17</td>\n",
       "      <td>1185</td>\n",
       "    </tr>\n",
       "    <tr>\n",
       "      <th>3</th>\n",
       "      <td>1</td>\n",
       "      <td>14.37</td>\n",
       "      <td>1.95</td>\n",
       "      <td>2.50</td>\n",
       "      <td>16.8</td>\n",
       "      <td>113</td>\n",
       "      <td>3.85</td>\n",
       "      <td>3.49</td>\n",
       "      <td>0.24</td>\n",
       "      <td>2.18</td>\n",
       "      <td>7.80</td>\n",
       "      <td>0.86</td>\n",
       "      <td>3.45</td>\n",
       "      <td>1480</td>\n",
       "    </tr>\n",
       "    <tr>\n",
       "      <th>4</th>\n",
       "      <td>1</td>\n",
       "      <td>13.24</td>\n",
       "      <td>2.59</td>\n",
       "      <td>2.87</td>\n",
       "      <td>21.0</td>\n",
       "      <td>118</td>\n",
       "      <td>2.80</td>\n",
       "      <td>2.69</td>\n",
       "      <td>0.39</td>\n",
       "      <td>1.82</td>\n",
       "      <td>4.32</td>\n",
       "      <td>1.04</td>\n",
       "      <td>2.93</td>\n",
       "      <td>735</td>\n",
       "    </tr>\n",
       "  </tbody>\n",
       "</table>\n",
       "</div>"
      ],
      "text/plain": [
       "   Class  Alcohol  MalicAcid   Ash  AlcalinityOfAsh    Magnesium  \\\n",
       "0      1    14.23       1.71  2.43               15.6        127   \n",
       "1      1    13.20       1.78  2.14               11.2        100   \n",
       "2      1    13.16       2.36  2.67               18.6        101   \n",
       "3      1    14.37       1.95  2.50               16.8        113   \n",
       "4      1    13.24       2.59  2.87               21.0        118   \n",
       "\n",
       "   TotalPhenols  Flavanoids  Nonflavanoid  Proanthocyanins  ColorIntensity  \\\n",
       "0          2.80        3.06          0.28             2.29            5.64   \n",
       "1          2.65        2.76          0.26             1.28            4.38   \n",
       "2          2.80        3.24          0.30             2.81            5.68   \n",
       "3          3.85        3.49          0.24             2.18            7.80   \n",
       "4          2.80        2.69          0.39             1.82            4.32   \n",
       "\n",
       "    Hue  OD280OD315  Proline  \n",
       "0  1.04        3.92     1065  \n",
       "1  1.05        3.40     1050  \n",
       "2  1.03        3.17     1185  \n",
       "3  0.86        3.45     1480  \n",
       "4  1.04        2.93      735  "
      ]
     },
     "execution_count": 247,
     "metadata": {},
     "output_type": "execute_result"
    }
   ],
   "source": [
    "df.head()"
   ]
  },
  {
   "cell_type": "code",
   "execution_count": 248,
   "metadata": {},
   "outputs": [],
   "source": [
    "df.columns = ['Class', 'Alc', 'Mal', 'Ash', 'Alca', 'Mag', \"TotPhen\", 'Flav', \"NonFlav\", 'Proan', 'Color', 'Hue', 'OD280OD315', 'Proline']"
   ]
  },
  {
   "cell_type": "code",
   "execution_count": 249,
   "metadata": {},
   "outputs": [],
   "source": [
    "# separating features and classification\n",
    "X = df.drop('Class', axis=1)\n",
    "y = df.Class-1"
   ]
  },
  {
   "cell_type": "code",
   "execution_count": 250,
   "metadata": {},
   "outputs": [],
   "source": [
    "# train test split\n",
    "from sklearn.model_selection import train_test_split"
   ]
  },
  {
   "cell_type": "code",
   "execution_count": 251,
   "metadata": {},
   "outputs": [],
   "source": [
    "X_train, X_test, y_train, y_test = train_test_split(X, y, test_size=0.3)"
   ]
  },
  {
   "cell_type": "code",
   "execution_count": 252,
   "metadata": {},
   "outputs": [],
   "source": [
    "import tensorflow as tf"
   ]
  },
  {
   "cell_type": "code",
   "execution_count": 253,
   "metadata": {},
   "outputs": [],
   "source": [
    "# converting features into graph matrix\n",
    "feat_cols = []\n",
    "\n",
    "for col in X.columns:\n",
    "    feat_cols.append(tf.feature_column.numeric_column(col))"
   ]
  },
  {
   "cell_type": "code",
   "execution_count": 254,
   "metadata": {},
   "outputs": [],
   "source": [
    "input_func = tf.estimator.inputs.pandas_input_fn(x=X_train,y=y_train,batch_size=7,num_epochs=5,shuffle=True)"
   ]
  },
  {
   "cell_type": "code",
   "execution_count": 255,
   "metadata": {
    "scrolled": true
   },
   "outputs": [
    {
     "name": "stderr",
     "output_type": "stream",
     "text": [
      "W0709 19:37:05.991057  3760 estimator.py:1811] Using temporary folder as model directory: C:\\Users\\magik\\AppData\\Local\\Temp\\tmpo9mo54t0\n"
     ]
    }
   ],
   "source": [
    "classifier = tf.estimator.DNNClassifier(hidden_units=[500, 300], n_classes=3,feature_columns=feat_cols)"
   ]
  },
  {
   "cell_type": "code",
   "execution_count": 256,
   "metadata": {
    "scrolled": true
   },
   "outputs": [
    {
     "data": {
      "text/plain": [
       "<tensorflow_estimator.python.estimator.canned.dnn.DNNClassifier at 0x27f097e5358>"
      ]
     },
     "execution_count": 256,
     "metadata": {},
     "output_type": "execute_result"
    }
   ],
   "source": [
    "classifier.train(input_fn=input_func,steps=100)"
   ]
  },
  {
   "cell_type": "code",
   "execution_count": 257,
   "metadata": {},
   "outputs": [],
   "source": [
    "# Define test inputs\n",
    "test_input_func = tf.estimator.inputs.pandas_input_fn(x=X_test,y=y_test,batch_size=10,num_epochs=5,shuffle=False)"
   ]
  },
  {
   "cell_type": "code",
   "execution_count": 258,
   "metadata": {},
   "outputs": [
    {
     "name": "stdout",
     "output_type": "stream",
     "text": [
      "\n",
      "Test Accuracy using TensorFlow's DNNClassifier is: 70.370370%\n",
      "\n"
     ]
    }
   ],
   "source": [
    "# Evaluate accuracy\n",
    "accuracy_score = classifier.evaluate(input_fn=test_input_func)['accuracy']\n",
    "print(\"\\nTest Accuracy using TensorFlow's DNNClassifier is: {0:f}%\\n\".format(accuracy_score*100))"
   ]
  },
  {
   "cell_type": "markdown",
   "metadata": {},
   "source": [
    "##### Use tensorFlow, Scikit-learn and Pybrain to conduct credit scoring classification.  Follow this tutorial Using neural networks for credit scoring: a simple example: \n",
    "https://www.r-bloggers.com/using-neural-networks-for-credit-scoring-a-simple-example/ \n",
    "\n",
    "##### Explain and compare the results from the 3 packages.  (If a package desnt work for you, replace it with another from the list). "
   ]
  },
  {
   "cell_type": "code",
   "execution_count": 259,
   "metadata": {},
   "outputs": [],
   "source": [
    "import pandas as pd\n",
    "import numpy as np\n",
    "import matplotlib.pyplot as plt\n",
    "import seaborn as sns\n",
    "%matplotlib inline"
   ]
  },
  {
   "cell_type": "code",
   "execution_count": 260,
   "metadata": {},
   "outputs": [],
   "source": [
    "credit = pd.read_csv('creditset.csv')"
   ]
  },
  {
   "cell_type": "code",
   "execution_count": 261,
   "metadata": {
    "scrolled": true
   },
   "outputs": [
    {
     "name": "stdout",
     "output_type": "stream",
     "text": [
      "<class 'pandas.core.frame.DataFrame'>\n",
      "RangeIndex: 2000 entries, 0 to 1999\n",
      "Data columns (total 6 columns):\n",
      "clientid       2000 non-null int64\n",
      "income         2000 non-null float64\n",
      "age            2000 non-null float64\n",
      "loan           2000 non-null float64\n",
      "LTI            2000 non-null float64\n",
      "default10yr    2000 non-null int64\n",
      "dtypes: float64(4), int64(2)\n",
      "memory usage: 93.8 KB\n"
     ]
    }
   ],
   "source": [
    "# checking for null values - no null in this case\n",
    "credit.info()"
   ]
  },
  {
   "cell_type": "code",
   "execution_count": 262,
   "metadata": {},
   "outputs": [
    {
     "data": {
      "text/plain": [
       "<matplotlib.axes._subplots.AxesSubplot at 0x27f07446400>"
      ]
     },
     "execution_count": 262,
     "metadata": {},
     "output_type": "execute_result"
    },
    {
     "data": {
      "image/png": "[encoded data removed]",
      "text/plain": [
       "<Figure size 432x288 with 1 Axes>"
      ]
     },
     "metadata": {
      "needs_background": "light"
     },
     "output_type": "display_data"
    }
   ],
   "source": [
    "# checking proportion of each class - imbalanced in this case\n",
    "sns.countplot(credit['default10yr'])"
   ]
  },
  {
   "cell_type": "markdown",
   "metadata": {},
   "source": [
    "* *_Split into train and test first_*\n",
    "* *_Then oversample minority class to balance dataset_*"
   ]
  },
  {
   "cell_type": "code",
   "execution_count": 263,
   "metadata": {},
   "outputs": [],
   "source": [
    "# extracting X and y\n",
    "y = credit['default10yr']\n",
    "X = credit.drop('default10yr', axis=1)"
   ]
  },
  {
   "cell_type": "code",
   "execution_count": 264,
   "metadata": {},
   "outputs": [],
   "source": [
    "# split train test sets\n",
    "from sklearn.model_selection import train_test_split\n",
    "\n",
    "X_train, X_test, y_train, y_test = train_test_split(X, y, test_size=0.3, random_state=123)"
   ]
  },
  {
   "cell_type": "code",
   "execution_count": 265,
   "metadata": {},
   "outputs": [
    {
     "data": {
      "text/html": [
       "<div>\n",
       "<style scoped>\n",
       "    .dataframe tbody tr th:only-of-type {\n",
       "        vertical-align: middle;\n",
       "    }\n",
       "\n",
       "    .dataframe tbody tr th {\n",
       "        vertical-align: top;\n",
       "    }\n",
       "\n",
       "    .dataframe thead th {\n",
       "        text-align: right;\n",
       "    }\n",
       "</style>\n",
       "<table border=\"1\" class=\"dataframe\">\n",
       "  <thead>\n",
       "    <tr style=\"text-align: right;\">\n",
       "      <th></th>\n",
       "      <th>default10yr</th>\n",
       "      <th>clientid</th>\n",
       "      <th>income</th>\n",
       "      <th>age</th>\n",
       "      <th>loan</th>\n",
       "      <th>LTI</th>\n",
       "    </tr>\n",
       "  </thead>\n",
       "  <tbody>\n",
       "    <tr>\n",
       "      <th>1404</th>\n",
       "      <td>0</td>\n",
       "      <td>1405</td>\n",
       "      <td>28423.131471</td>\n",
       "      <td>61.671459</td>\n",
       "      <td>5282.849182</td>\n",
       "      <td>0.185864</td>\n",
       "    </tr>\n",
       "    <tr>\n",
       "      <th>172</th>\n",
       "      <td>0</td>\n",
       "      <td>173</td>\n",
       "      <td>26039.021490</td>\n",
       "      <td>49.390402</td>\n",
       "      <td>2056.752382</td>\n",
       "      <td>0.078987</td>\n",
       "    </tr>\n",
       "    <tr>\n",
       "      <th>712</th>\n",
       "      <td>1</td>\n",
       "      <td>713</td>\n",
       "      <td>47786.141064</td>\n",
       "      <td>29.708189</td>\n",
       "      <td>7181.478553</td>\n",
       "      <td>0.150284</td>\n",
       "    </tr>\n",
       "    <tr>\n",
       "      <th>866</th>\n",
       "      <td>0</td>\n",
       "      <td>867</td>\n",
       "      <td>35950.488450</td>\n",
       "      <td>35.471847</td>\n",
       "      <td>2664.925675</td>\n",
       "      <td>0.074128</td>\n",
       "    </tr>\n",
       "    <tr>\n",
       "      <th>1217</th>\n",
       "      <td>0</td>\n",
       "      <td>1218</td>\n",
       "      <td>29279.749787</td>\n",
       "      <td>18.813099</td>\n",
       "      <td>2291.988119</td>\n",
       "      <td>0.078279</td>\n",
       "    </tr>\n",
       "  </tbody>\n",
       "</table>\n",
       "</div>"
      ],
      "text/plain": [
       "      default10yr  clientid        income        age         loan       LTI\n",
       "1404            0      1405  28423.131471  61.671459  5282.849182  0.185864\n",
       "172             0       173  26039.021490  49.390402  2056.752382  0.078987\n",
       "712             1       713  47786.141064  29.708189  7181.478553  0.150284\n",
       "866             0       867  35950.488450  35.471847  2664.925675  0.074128\n",
       "1217            0      1218  29279.749787  18.813099  2291.988119  0.078279"
      ]
     },
     "execution_count": 265,
     "metadata": {},
     "output_type": "execute_result"
    }
   ],
   "source": [
    "data_train = pd.concat([y_train, X_train], axis=1)\n",
    "data_train.head()"
   ]
  },
  {
   "cell_type": "code",
   "execution_count": 266,
   "metadata": {},
   "outputs": [],
   "source": [
    "# balancing training set with bagging\n",
    "from sklearn.utils import resample\n",
    "\n",
    "default = data_train[data_train['default10yr']==1]\n",
    "no_default = data_train[data_train['default10yr']==0]\n",
    "\n",
    "up_default = resample(default, replace=True, n_samples = len(no_default), random_state=123)\n",
    "data_train_bal = pd.concat([up_default, no_default])"
   ]
  },
  {
   "cell_type": "code",
   "execution_count": 267,
   "metadata": {},
   "outputs": [
    {
     "data": {
      "text/plain": [
       "<matplotlib.axes._subplots.AxesSubplot at 0x27f0721b550>"
      ]
     },
     "execution_count": 267,
     "metadata": {},
     "output_type": "execute_result"
    },
    {
     "data": {
      "image/png": "[encoded data removed]",
      "text/plain": [
       "<Figure size 432x288 with 1 Axes>"
      ]
     },
     "metadata": {
      "needs_background": "light"
     },
     "output_type": "display_data"
    }
   ],
   "source": [
    "# confirm instances for each classes are balanced in data_train\n",
    "sns.countplot(data_train_bal['default10yr'])"
   ]
  },
  {
   "cell_type": "markdown",
   "metadata": {},
   "source": [
    "*__TensorFlow__*"
   ]
  },
  {
   "cell_type": "code",
   "execution_count": 268,
   "metadata": {},
   "outputs": [],
   "source": [
    "y_train_bal = data_train_bal['default10yr']\n",
    "X_train_bal = data_train_bal.drop('default10yr', axis=1)"
   ]
  },
  {
   "cell_type": "code",
   "execution_count": 269,
   "metadata": {},
   "outputs": [],
   "source": [
    "feat_cols = []\n",
    "\n",
    "for col in X_train_bal.columns:\n",
    "    feat_cols.append(tf.feature_column.numeric_column(col))"
   ]
  },
  {
   "cell_type": "code",
   "execution_count": 270,
   "metadata": {},
   "outputs": [],
   "source": [
    "input_func = tf.estimator.inputs.pandas_input_fn(x=X_train_bal,\n",
    "                                                 y=y_train_bal,\n",
    "                                                 batch_size=7,\n",
    "                                                 num_epochs=5,\n",
    "                                                 shuffle=True)"
   ]
  },
  {
   "cell_type": "code",
   "execution_count": 271,
   "metadata": {
    "scrolled": true
   },
   "outputs": [
    {
     "name": "stderr",
     "output_type": "stream",
     "text": [
      "W0709 19:37:08.141882  3760 estimator.py:1811] Using temporary folder as model directory: C:\\Users\\magik\\AppData\\Local\\Temp\\tmpjb8a2teo\n"
     ]
    }
   ],
   "source": [
    "classifier = tf.estimator.DNNClassifier(hidden_units=[500, 300], n_classes=2,feature_columns=feat_cols)"
   ]
  },
  {
   "cell_type": "code",
   "execution_count": 272,
   "metadata": {
    "scrolled": true
   },
   "outputs": [
    {
     "data": {
      "text/plain": [
       "<tensorflow_estimator.python.estimator.canned.dnn.DNNClassifier at 0x27f7dedb6d8>"
      ]
     },
     "execution_count": 272,
     "metadata": {},
     "output_type": "execute_result"
    }
   ],
   "source": [
    "classifier.train(input_fn=input_func)"
   ]
  },
  {
   "cell_type": "code",
   "execution_count": 273,
   "metadata": {},
   "outputs": [],
   "source": [
    "# Define test inputs\n",
    "test_input_func = tf.estimator.inputs.pandas_input_fn(x=X_test,\n",
    "                                                      y=y_test,\n",
    "                                                      batch_size=7,\n",
    "                                                      num_epochs=5,\n",
    "                                                      shuffle=False)"
   ]
  },
  {
   "cell_type": "code",
   "execution_count": 274,
   "metadata": {
    "scrolled": true
   },
   "outputs": [
    {
     "name": "stderr",
     "output_type": "stream",
     "text": [
      "W0709 19:37:11.837165  3760 metrics_impl.py:804] Trapezoidal rule is known to produce incorrect PR-AUCs; please switch to \"careful_interpolation\" instead.\n",
      "W0709 19:37:11.852404  3760 metrics_impl.py:804] Trapezoidal rule is known to produce incorrect PR-AUCs; please switch to \"careful_interpolation\" instead.\n"
     ]
    },
    {
     "name": "stdout",
     "output_type": "stream",
     "text": [
      "\n",
      "Credit Default:\n",
      "TensorFlow DNN Classifier Prediction Accuracy: 87.500000%\n",
      "\n"
     ]
    }
   ],
   "source": [
    "# Evaluate accuracy\n",
    "accuracy_score = classifier.evaluate(input_fn=test_input_func)['accuracy']\n",
    "print(\"\\nCredit Default:\\nTensorFlow DNN Classifier Prediction Accuracy: {0:f}%\\n\".format(accuracy_score*100))"
   ]
  },
  {
   "cell_type": "markdown",
   "metadata": {},
   "source": [
    "*__Scikit_Learn__*"
   ]
  },
  {
   "cell_type": "code",
   "execution_count": 275,
   "metadata": {},
   "outputs": [],
   "source": [
    "X_train_bal = data_train_bal.drop('default10yr', axis=1)\n",
    "y_train_bal = data_train_bal['default10yr']"
   ]
  },
  {
   "cell_type": "code",
   "execution_count": 276,
   "metadata": {},
   "outputs": [],
   "source": [
    "from sklearn.neural_network import MLPClassifier\n",
    "from sklearn.metrics import accuracy_score\n",
    "\n",
    "mlp_clf = MLPClassifier(solver='sgd',\n",
    "                        activation='logistic',\n",
    "                        hidden_layer_sizes=(500, 300),\n",
    "                        random_state=123,\n",
    "                        tol=0.000000001)"
   ]
  },
  {
   "cell_type": "code",
   "execution_count": 277,
   "metadata": {},
   "outputs": [],
   "source": [
    "mlp_clf.fit(X_train_bal, y_train_bal)\n",
    "y_pred = mlp_clf.predict(X_test)"
   ]
  },
  {
   "cell_type": "code",
   "execution_count": 278,
   "metadata": {},
   "outputs": [
    {
     "name": "stdout",
     "output_type": "stream",
     "text": [
      "\n",
      "Credit Default:\n",
      "SKlearn MLPClassifier Accuracy: 77.166667%\n",
      "\n"
     ]
    }
   ],
   "source": [
    "# accuracy testing\n",
    "score = accuracy_score(y_test, y_pred)\n",
    "print(\"\\nCredit Default:\\nSKlearn MLPClassifier Accuracy: {0:f}%\\n\".format(score*100))"
   ]
  },
  {
   "cell_type": "markdown",
   "metadata": {},
   "source": [
    "*__PyBrain__*"
   ]
  },
  {
   "cell_type": "code",
   "execution_count": 279,
   "metadata": {},
   "outputs": [],
   "source": [
    "from pybrain.datasets.supervised import SupervisedDataSet\n",
    "from pybrain.tools.shortcuts import buildNetwork\n",
    "from pybrain.supervised.trainers import BackpropTrainer"
   ]
  },
  {
   "cell_type": "code",
   "execution_count": 280,
   "metadata": {},
   "outputs": [],
   "source": [
    "input_size = X_train_bal.shape[1]\n",
    "target_size = 1\n",
    "hidden_size = 100"
   ]
  },
  {
   "cell_type": "code",
   "execution_count": 281,
   "metadata": {},
   "outputs": [],
   "source": [
    "ds = SupervisedDataSet(input_size, target_size)\n",
    "ds.setField('input', X_train_bal.values)\n",
    "\n",
    "y_train_bal_reshaped = y_train_bal.values.reshape(-1, 1)\n",
    "\n",
    "ds.setField('target', y_train_bal_reshaped)"
   ]
  },
  {
   "cell_type": "code",
   "execution_count": 282,
   "metadata": {},
   "outputs": [],
   "source": [
    "# init and train network\n",
    "net = buildNetwork(input_size, hidden_size, target_size, bias= True )\n",
    "trainer = BackpropTrainer(net,ds)"
   ]
  },
  {
   "cell_type": "code",
   "execution_count": 283,
   "metadata": {},
   "outputs": [
    {
     "name": "stdout",
     "output_type": "stream",
     "text": [
      "('train-errors:', '[0.241757 , 0.135983 , 0.166696 , 0.164747 , 0.167184 , 0.167997 , 0.161427 , 0.167334 , 0.166031 , 0.165592 , 0.167135 , 0.166743 , 0.165779 , 0.165564 , 0.16522  , 0.162533 , 0.16237  , 0.163502 , 0.16716  , 0.165648 , 0.162833 , 0.166595 , 0.165356 , 0.16317  , 0.166496 , 0.162167 , 0.162174 , 0.168867 , 0.160149 , 0.163819 , 0.16331  , 0.161222 , 0.164887 , 0.164191 , 0.161047 , 0.166874 , 0.162041 , 0.165748 , 0.163385 , 0.16394  , 0.165361 , 0.159939 , 0.165022 , 0.16201  , 0.161612 , 0.16411  , 0.160742 , 0.166851 , 0.164492 , 0.167932 , 0.166799 , 0.165852 , 0.163495 , 0.166138 , 0.162738 , 0.164375 , 0.163605 , 0.164945 , 0.166457 , 0.163585 , 0.163082 , 0.164145 , 0.164831 , 0.164724 , 0.162198 , 0.163498 , 0.167249 , 0.165811 , 0.167741 , 0.160094 , 0.166033 , 0.163701 , 0.165511 , 0.162683 , 0.161532 , 0.161273 , 0.164726 , 0.165127 , 0.164242 , 0.165708 , 0.16384  , 0.163311 , 0.166705 , 0.169864 , 0.16277  , 0.164975 , 0.161047 , 0.163669 , 0.164289 , 0.164257 , 0.166623 , 0.165357 , 0.162295 , 0.163571 , 0.167316 , 0.162558 , 0.162972 , 0.165768 , 0.166108 , 0.16534  , 0.16712  ]')\n",
      "('valid-errors:', '[30.7295  , 0.095852 , 0.222054 , 0.1959   , 0.128    , 0.133669 , 0.126265 , 0.132424 , 0.132735 , 0.216451 , 0.138886 , 0.137154 , 0.126686 , 0.126776 , 0.182923 , 0.182543 , 0.152959 , 0.132082 , 0.129432 , 0.134218 , 0.216593 , 0.150542 , 0.156612 , 0.14906  , 0.134058 , 0.157877 , 0.12494  , 0.129056 , 0.194346 , 0.23693  , 0.197302 , 0.19402  , 0.211486 , 0.200096 , 0.124978 , 0.124942 , 0.174549 , 0.135338 , 0.145406 , 0.146174 , 0.225527 , 0.231954 , 0.195943 , 0.141566 , 0.129472 , 0.127478 , 0.185436 , 0.328664 , 0.12779  , 0.222758 , 0.132634 , 0.135781 , 0.153777 , 0.125065 , 0.126391 , 0.20583  , 0.152501 , 0.159121 , 0.125062 , 0.175672 , 0.132674 , 0.125454 , 0.130167 , 0.1661   , 0.161056 , 0.151637 , 0.134385 , 0.231094 , 0.219206 , 0.124845 , 0.127105 , 0.215994 , 0.147616 , 0.235368 , 0.211062 , 0.193265 , 0.149573 , 0.207348 , 0.162323 , 0.157128 , 0.223567 , 0.203985 , 0.216226 , 0.138798 , 0.163351 , 0.130781 , 0.190943 , 0.128996 , 0.132706 , 0.150764 , 0.134105 , 0.223766 , 0.229522 , 0.129045 , 0.128436 , 0.231114 , 0.240157 , 0.138499 , 0.199273 , 0.157073 , 0.134217 , 0.151766 ]')\n"
     ]
    }
   ],
   "source": [
    "train_mse, validation_mse = trainer.trainUntilConvergence(\n",
    "    verbose = True,\n",
    "    validationProportion = 0.1,\n",
    "    maxEpochs = 100,\n",
    "    continueEpochs = 10)"
   ]
  },
  {
   "cell_type": "code",
   "execution_count": 284,
   "metadata": {},
   "outputs": [],
   "source": [
    "# setting up dataset for prediction using test dataset\n",
    "ds_test = SupervisedDataSet(input_size, target_size)\n",
    "ds_test.setField( 'input', X_test.values )\n",
    "y_test_reshaped = y_test.values.reshape(-1,1)\n",
    "ds_test.setField( 'target', y_test_reshaped )"
   ]
  },
  {
   "cell_type": "code",
   "execution_count": 285,
   "metadata": {},
   "outputs": [],
   "source": [
    "# prediction\n",
    "pybrain_pred = net.activateOnDataset(ds_test)"
   ]
  },
  {
   "cell_type": "code",
   "execution_count": 286,
   "metadata": {},
   "outputs": [],
   "source": [
    "pybrain_pred = [0 if s <0.5 else 1 for s in pybrain_pred]"
   ]
  },
  {
   "cell_type": "code",
   "execution_count": 287,
   "metadata": {},
   "outputs": [
    {
     "name": "stdout",
     "output_type": "stream",
     "text": [
      "\n",
      "Credit Default:\n",
      "Pybrain buildNetwork Classifer Accuracy: 83.500000%\n",
      "\n"
     ]
    }
   ],
   "source": [
    "# evaluation\n",
    "score = accuracy_score(y_test, pybrain_pred)\n",
    "print(\"\\nCredit Default:\\nPybrain buildNetwork Classifer Accuracy: {0:f}%\\n\".format(score*100))"
   ]
  },
  {
   "cell_type": "markdown",
   "metadata": {},
   "source": [
    "*__Observations:__*"
   ]
  },
  {
   "cell_type": "markdown",
   "metadata": {},
   "source": [
    "Among TensorFlow's DNNClassifier, SKLearn's MLPClassifier, and PyBrain's buildNetwork, through multiple iterations of run, SKLearn's MLPClassifer appears to yield the most consistant accuracy, at around 77%.  However, PyBrain's buildNetwork appears to yield the highest accuracy score per every couple iterations, although the result is not consistant."
   ]
  }
 ],
 "metadata": {
  "kernelspec": {
   "display_name": "Python 3",
   "language": "python",
   "name": "python3"
  },
  "language_info": {
   "codemirror_mode": {
    "name": "ipython",
    "version": 3
   },
   "file_extension": ".py",
   "mimetype": "text/x-python",
   "name": "python",
   "nbconvert_exporter": "python",
   "pygments_lexer": "ipython3",
   "version": "3.7.3"
  }
 },
 "nbformat": 4,
 "nbformat_minor": 2
}
