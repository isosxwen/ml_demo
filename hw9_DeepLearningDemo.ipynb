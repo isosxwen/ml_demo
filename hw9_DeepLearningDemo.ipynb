{
 "cells": [
  {
   "cell_type": "markdown",
   "metadata": {
    "colab_type": "text",
    "id": "Swy72SPmvTSE"
   },
   "source": [
    "**1.   How is Deep learning different from the Neural Networks (ANN) learning and algorithms we studied?**"
   ]
  },
  {
   "cell_type": "markdown",
   "metadata": {
    "colab_type": "text",
    "id": "lwqbz3Uvv3vX"
   },
   "source": [
    "The performance of the neural networks (ANN) learning and algorithms that we have studied so far hinges on the quality of the features selection, which's mostly done by a programmer or engineer.  These are also known as shallow learners.  A problem associated with shallow learning is the selectivity-invariance dilemma, in which one that produces representations that are selective to the aspects of the image that are important for discrimination, but that are invariant to irrelevant aspects such as the pose of the animal.  A solution to the dilemma is to use generic non-linear features, such as the kernel methods, however, this method doesn't generalize well when applied on test data that are very different from the training dataset, and this leads to the need for intricately designed good feature extractors, which requires considerable engineering skill and domain expertise.  \n",
    "\n",
    "The above dilemma can be avoided altogether by the use of deep learning architecture because of the method's inherent ability to learn good features automatically using a multilayer stack of simple modules, most of which are subject to learning, and each module in the stack transforms its input to increase both the selectivity and the invariance of the representation.\n",
    "\n",
    "To recap, the main difference between deep learning and the others that we've covered so far resides in DL's ability to learn good features as opposed to the others' dependency on hand-engineered features selection.  "
   ]
  },
  {
   "cell_type": "markdown",
   "metadata": {
    "colab_type": "text",
    "id": "Lao1Pte8wUnL"
   },
   "source": [
    "**2. TensorFlow Implementation:**\n",
    "\n",
    "https://www.datacamp.com/community/tutorials/tensorflow-tutorial.\n",
    "\n",
    "Using Tensor Flow, implement multiclass classification via Deep Learning CNNs for a different use case following the tutorial.  \n",
    "\n",
    "Use another dataset from the following sources:  https://www.tensorflow.org/datasets.\n",
    "\n",
    "Explain the results. "
   ]
  },
  {
   "cell_type": "code",
   "execution_count": 0,
   "metadata": {
    "colab": {},
    "colab_type": "code",
    "id": "F1SA5wL9uORA"
   },
   "outputs": [],
   "source": [
    "import pandas as pd\n",
    "import numpy as np\n",
    "import matplotlib.pyplot as plt\n",
    "%matplotlib inline\n",
    "\n",
    "\n",
    "import tensorflow as tf\n",
    "from tensorflow import*\n",
    "import tensorflow_datasets as tfds\n",
    "\n",
    "# to enable eager execution -> click on Runtime -> Reset all runtimes\n",
    "\n",
    "tf.enable_eager_execution()"
   ]
  },
  {
   "cell_type": "markdown",
   "metadata": {
    "colab_type": "text",
    "id": "Mtqw_v6HHbhu"
   },
   "source": [
    "### *Trial Data Pre-processing*"
   ]
  },
  {
   "cell_type": "code",
   "execution_count": 2,
   "metadata": {
    "colab": {
     "base_uri": "https://localhost:8080/",
     "height": 193
    },
    "colab_type": "code",
    "id": "SgxkenRF1nG9",
    "outputId": "e0561514-46ac-488d-f053-0a55a6ad4b76"
   },
   "outputs": [
    {
     "name": "stdout",
     "output_type": "stream",
     "text": [
      "['diabetic_retinopathy_detection',\n",
      " 'downsampled_imagenet',\n",
      " 'dsprites',\n",
      " 'dtd',\n",
      " 'dummy_dataset_shared_generator',\n",
      " 'dummy_mnist',\n",
      " 'emnist',\n",
      " 'eurosat',\n",
      " 'fashion_mnist',\n",
      " 'flores']\n"
     ]
    }
   ],
   "source": [
    "# show all datasets available in TensorFlow_datasets\n",
    "print(tfds.list_builders()[20:30])"
   ]
  },
  {
   "cell_type": "markdown",
   "metadata": {
    "colab_type": "text",
    "id": "oAPdayCniYP_"
   },
   "source": [
    "### ***Loading dataset***"
   ]
  },
  {
   "cell_type": "code",
   "execution_count": 0,
   "metadata": {
    "colab": {},
    "colab_type": "code",
    "id": "6UBrVWJ8HTBv"
   },
   "outputs": [],
   "source": [
    "from tensorflow.examples.tutorials.mnist import input_data\n",
    "\n",
    "ds = input_data.read_data_sets('data/fashion', one_hot=False)"
   ]
  },
  {
   "cell_type": "code",
   "execution_count": 4,
   "metadata": {
    "colab": {
     "base_uri": "https://localhost:8080/",
     "height": 87
    },
    "colab_type": "code",
    "id": "bQ0vU20WItrn",
    "outputId": "4ccdaab6-a775-4e97-846e-5e91d37d73f4"
   },
   "outputs": [
    {
     "name": "stdout",
     "output_type": "stream",
     "text": [
      "Training set (images) shape: (55000, 784)\n",
      "Training set (labels) shape: (55000,)\n",
      "Test set (images) shape: (10000, 784)\n",
      "Test set (labels) shape: (10000,)\n"
     ]
    }
   ],
   "source": [
    "# Shapes of training set\n",
    "print(\"Training set (images) shape: {shape}\".format(shape=ds.train.images.shape))\n",
    "print(\"Training set (labels) shape: {shape}\".format(shape=ds.train.labels.shape))\n",
    "\n",
    "# Shapes of test set\n",
    "print(\"Test set (images) shape: {shape}\".format(shape=ds.test.images.shape))\n",
    "print(\"Test set (labels) shape: {shape}\".format(shape=ds.test.labels.shape))"
   ]
  },
  {
   "cell_type": "markdown",
   "metadata": {
    "colab_type": "text",
    "id": "waZ01NoIMMxF"
   },
   "source": [
    "### ***Pre-processing data***"
   ]
  },
  {
   "cell_type": "code",
   "execution_count": 5,
   "metadata": {
    "colab": {
     "base_uri": "https://localhost:8080/",
     "height": 52
    },
    "colab_type": "code",
    "id": "3FekTvVWMpDL",
    "outputId": "772c638d-dc21-4f0b-f148-b01396e4bf24"
   },
   "outputs": [
    {
     "name": "stdout",
     "output_type": "stream",
     "text": [
      "Max value in all 'images' features is: 1.0\n",
      "Min value in all 'images' features is: 0.0\n"
     ]
    }
   ],
   "source": [
    "# checking image normalization by checking whether values range between 0 and 1 inclusive\n",
    "\n",
    "print(\"Max value in all 'images' features is: {}\".format(np.max(ds.train.images)))\n",
    "print(\"Min value in all 'images' features is: {}\".format(np.min(ds.train.images)))"
   ]
  },
  {
   "cell_type": "code",
   "execution_count": 6,
   "metadata": {
    "colab": {
     "base_uri": "https://localhost:8080/",
     "height": 35
    },
    "colab_type": "code",
    "id": "UDmuBi-mU1d3",
    "outputId": "b00215f0-470f-4a60-a627-b305c3f7b974"
   },
   "outputs": [
    {
     "data": {
      "text/plain": [
       "((55000, 784), (10000, 784))"
      ]
     },
     "execution_count": 6,
     "metadata": {
      "tags": []
     },
     "output_type": "execute_result"
    }
   ],
   "source": [
    "# Reshape training and testing image\n",
    "# 'images' - input features\n",
    "\n",
    "train_X = ds.train.images\n",
    "test_X = ds.test.images\n",
    "\n",
    "# checking reshaped dimensions\n",
    "train_X.shape, test_X.shape"
   ]
  },
  {
   "cell_type": "code",
   "execution_count": 7,
   "metadata": {
    "colab": {
     "base_uri": "https://localhost:8080/",
     "height": 35
    },
    "colab_type": "code",
    "id": "3VPp7h72YnfX",
    "outputId": "58ea6e6f-0c19-44f4-fe3a-47a1e84416c9"
   },
   "outputs": [
    {
     "data": {
      "text/plain": [
       "((55000,), (10000,))"
      ]
     },
     "execution_count": 7,
     "metadata": {
      "tags": []
     },
     "output_type": "execute_result"
    }
   ],
   "source": [
    "train_y = ds.train.labels.astype(int)\n",
    "test_y = ds.test.labels.astype(int)\n",
    "\n",
    "# checking labels\n",
    "train_y.shape, test_y.shape"
   ]
  },
  {
   "cell_type": "markdown",
   "metadata": {
    "colab_type": "text",
    "id": "Fn9CpCM0ZPvN"
   },
   "source": [
    "### ***CNN: TensorFlow Implementation***"
   ]
  },
  {
   "cell_type": "code",
   "execution_count": 0,
   "metadata": {
    "colab": {},
    "colab_type": "code",
    "id": "mSeq7sjQS8_q"
   },
   "outputs": [],
   "source": [
    "def cnn_model(features, labels, mode):\n",
    "  \n",
    "  input_layer = tf.reshape(tensor = features[\"x\"],shape =[-1, 28, 28, 1])\n",
    "  \n",
    "  conv1 = tf.layers.conv2d(inputs = input_layer,\n",
    "                           filters = 32,\n",
    "                           kernel_size=[5,5],\n",
    "                           padding = \"same\",\n",
    "                           activation = tf.nn.relu)\n",
    "  \n",
    "  pool1 = tf.layers.max_pooling2d(inputs=conv1, pool_size=[2, 2], strides=2)\n",
    "  \n",
    "  conv2 = tf.layers.conv2d(inputs=pool1,\n",
    "                           filters=36,\n",
    "                           kernel_size = [5,5],\n",
    "                           padding = \"same\",\n",
    "                           activation = tf.nn.relu)\n",
    "  \n",
    "  pool2 = tf.layers.max_pooling2d(inputs = conv2, pool_size=[2,2], strides=2)\n",
    "   \n",
    "  # flatten for dense layer input\n",
    "  pool2_flat = tf.reshape(pool2, [-1, 7 * 7 * 36])\n",
    "  \n",
    "  dense = tf.layers.dense(inputs=pool2_flat, units=7 * 7 * 36, activation=tf.nn.relu)\n",
    "  \n",
    "  dropout = tf.layers.dropout(inputs=dense, rate=0.4, training= mode==tf.estimator.ModeKeys.TRAIN)\n",
    "  print(\"dropout shape: {}\\n\".format(dropout.shape))\n",
    "  \n",
    "  logits = tf.layers.dense(inputs=dropout, units=10)\n",
    "  print(\"logits shape: {}\\n\".format(logits.shape))\n",
    "  \n",
    "  # generate predictions (for PREDICT and EVAL mode)\n",
    "  predictions = {\"classes\": tf.argmax(input = logits, axis=1),\n",
    "                \"probablities\": tf.nn.softmax(logits, name=\"softmax_tensor\")}\n",
    "  \n",
    "  if mode == tf.estimator.ModeKeys.PREDICT:\n",
    "    return tf.estimator.EstimatorSpec(mode=mode, predictions=predictions)\n",
    "  \n",
    "  # Calculate Loss\n",
    "  loss = tf.losses.sparse_softmax_cross_entropy(labels=labels, logits=logits)\n",
    "\n",
    "  # Configure the Training Op (for TRAIN mode)\n",
    "  if mode == tf.estimator.ModeKeys.TRAIN:\n",
    "    optimizer = tf.train.GradientDescentOptimizer(learning_rate=0.001)\n",
    "    train_op = optimizer.minimize(loss=loss,\n",
    "                                  global_step=tf.train.get_global_step())\n",
    "    return tf.estimator.EstimatorSpec(mode=mode, loss=loss, train_op=train_op)\n",
    "\n",
    "  # Add evaluation metrics Evaluation mode\n",
    "  eval_metric_ops = {\n",
    "      \"accuracy\": tf.metrics.accuracy(labels=labels,\n",
    "                                      predictions=predictions[\"classes\"])}\n",
    "  return tf.estimator.EstimatorSpec(\n",
    "      mode=mode, loss=loss, eval_metric_ops=eval_metric_ops)\n",
    "  "
   ]
  },
  {
   "cell_type": "code",
   "execution_count": 0,
   "metadata": {
    "colab": {},
    "colab_type": "code",
    "id": "r7fCN7jQ5bAT"
   },
   "outputs": [],
   "source": [
    "# Create the Estimator\n",
    "classifier = tf.estimator.Estimator(\n",
    "    model_fn=cnn_model, model_dir=\"train/fashion_mnist_convnet_model\")"
   ]
  },
  {
   "cell_type": "code",
   "execution_count": 0,
   "metadata": {
    "colab": {},
    "colab_type": "code",
    "id": "kMpZWS0m5bDK"
   },
   "outputs": [],
   "source": [
    "# Set up logging for predictions\n",
    "\n",
    "tensors_to_log = {\"probabilities\": \"softmax_tensor\"}\n",
    "\n",
    "logging_hook = tf.train.LoggingTensorHook(tensors=tensors_to_log, every_n_iter=50)"
   ]
  },
  {
   "cell_type": "code",
   "execution_count": 19,
   "metadata": {
    "colab": {
     "base_uri": "https://localhost:8080/",
     "height": 107
    },
    "colab_type": "code",
    "id": "FmXkt9Rd5bFp",
    "outputId": "dceb7ea2-a6dd-44e5-f586-74fe7fbeb839"
   },
   "outputs": [
    {
     "name": "stderr",
     "output_type": "stream",
     "text": [
      "W0724 05:15:33.209820 140583956191104 deprecation.py:323] From /usr/local/lib/python3.6/dist-packages/tensorflow/python/training/saver.py:1066: get_checkpoint_mtimes (from tensorflow.python.training.checkpoint_management) is deprecated and will be removed in a future version.\n",
      "Instructions for updating:\n",
      "Use standard file utilities to get mtimes.\n"
     ]
    },
    {
     "data": {
      "text/plain": [
       "<tensorflow_estimator.python.estimator.estimator.Estimator at 0x7fdb982e4320>"
      ]
     },
     "execution_count": 19,
     "metadata": {
      "tags": []
     },
     "output_type": "execute_result"
    }
   ],
   "source": [
    "# Train the model\n",
    "train_input_fn = tf.estimator.inputs.numpy_input_fn(\n",
    "    x={\"x\": train_X},\n",
    "    y=train_y,\n",
    "    batch_size=100,\n",
    "    num_epochs=None,\n",
    "    shuffle=True)\n",
    "\n",
    "classifier.train(\n",
    "    input_fn=train_input_fn,\n",
    "    steps=16000,\n",
    "    hooks=[logging_hook])"
   ]
  },
  {
   "cell_type": "code",
   "execution_count": 27,
   "metadata": {
    "colab": {
     "base_uri": "https://localhost:8080/",
     "height": 52
    },
    "colab_type": "code",
    "id": "ZVPSDReb5bOo",
    "outputId": "410ed1b6-b8af-4753-dc73-728bc84ea8e6"
   },
   "outputs": [
    {
     "name": "stdout",
     "output_type": "stream",
     "text": [
      "\n",
      "Evaluation Metrics: {'accuracy': 0.9786, 'loss': 0.070605636, 'global_step': 32000}\n"
     ]
    }
   ],
   "source": [
    "# Evaluate the model and print results\n",
    "eval_input_fn = tf.estimator.inputs.numpy_input_fn(\n",
    "    x={\"x\": test_X},\n",
    "    y=test_y,\n",
    "    num_epochs=1,\n",
    "    shuffle=False)\n",
    "eval_results = classifier.evaluate(input_fn=eval_input_fn)\n",
    "print(\"\\nEvaluation Metrics: {}\".format(eval_results))"
   ]
  },
  {
   "cell_type": "markdown",
   "metadata": {
    "colab_type": "text",
    "id": "hwpO_LDJa4V8"
   },
   "source": [
    "*CNN TensorFlow Implementation on Fashion MNIST dataset yields: **97.9%** accuracy*"
   ]
  },
  {
   "cell_type": "markdown",
   "metadata": {
    "colab_type": "text",
    "id": "vgT2E0PXS9E0"
   },
   "source": [
    "### ***CNN: Keras Implementation***"
   ]
  },
  {
   "cell_type": "code",
   "execution_count": 0,
   "metadata": {
    "colab": {},
    "colab_type": "code",
    "id": "dLDGaWJNS9KM"
   },
   "outputs": [],
   "source": [
    "import numpy as np\n",
    "import matplotlib.pyplot as plt\n",
    "%matplotlib inline\n",
    "\n",
    "import tensorflow as tf\n",
    "from tensorflow.keras import datasets, layers, models, utils"
   ]
  },
  {
   "cell_type": "code",
   "execution_count": 0,
   "metadata": {
    "colab": {},
    "colab_type": "code",
    "id": "EE3eZKAXS9QJ"
   },
   "outputs": [],
   "source": [
    "ds = datasets.fashion_mnist\n",
    "\n",
    "(X_train, y_train), (X_test, y_test) = ds.load_data()"
   ]
  },
  {
   "cell_type": "code",
   "execution_count": 76,
   "metadata": {
    "colab": {
     "base_uri": "https://localhost:8080/",
     "height": 52
    },
    "colab_type": "code",
    "id": "HfjnUX44ampU",
    "outputId": "8ed33a31-18d0-4714-a2e0-e61f89f71c8a"
   },
   "outputs": [
    {
     "name": "stdout",
     "output_type": "stream",
     "text": [
      "X_train value range: 0 thru 255\n",
      "X_test value range: 0 thru 255\n"
     ]
    }
   ],
   "source": [
    "# check feature values for normalization\n",
    "print(\"X_train value range: {min} thru {max}\".format(max=np.max(X_train), min=np.min(X_train)))\n",
    "print(\"X_test value range: {min} thru {max}\".format(max=np.max(X_test), min=np.min(X_test)))"
   ]
  },
  {
   "cell_type": "code",
   "execution_count": 0,
   "metadata": {
    "colab": {
     "base_uri": "https://localhost:8080/",
     "height": 287
    },
    "colab_type": "code",
    "id": "jRQ9KCEtmBYi",
    "outputId": "236bddde-0fd5-4c7c-8d62-275251cb3e26"
   },
   "outputs": [
    {
     "data": {
      "text/plain": [
       "<matplotlib.image.AxesImage at 0x7f7a7f5a2fd0>"
      ]
     },
     "execution_count": 68,
     "metadata": {
      "tags": []
     },
     "output_type": "execute_result"
    },
    {
     "data": {
      "image/png": "[encoded data removed]",
      "text/plain": [
       "<Figure size 432x288 with 1 Axes>"
      ]
     },
     "metadata": {
      "tags": []
     },
     "output_type": "display_data"
    }
   ],
   "source": [
    "# visualize the first X_train element\n",
    "plt.imshow(X_train[0],cmap=plt.cm.binary)"
   ]
  },
  {
   "cell_type": "code",
   "execution_count": 0,
   "metadata": {
    "colab": {},
    "colab_type": "code",
    "id": "CVx5wYcCkGD_"
   },
   "outputs": [],
   "source": [
    "# normalize feature values\n",
    "X_train = utils.normalize(X_train, axis=1)\n",
    "X_test = utils.normalize(X_test, axis=1)"
   ]
  },
  {
   "cell_type": "code",
   "execution_count": 0,
   "metadata": {
    "colab": {
     "base_uri": "https://localhost:8080/",
     "height": 52
    },
    "colab_type": "code",
    "id": "9QQIPRz2kGHr",
    "outputId": "48dfcc75-cdcf-4a0a-a46a-de723312fb8d"
   },
   "outputs": [
    {
     "name": "stdout",
     "output_type": "stream",
     "text": [
      "X_train value range: 0.0 thru 1.0\n",
      "X_test value range: 0.0 thru 1.0\n"
     ]
    }
   ],
   "source": [
    "# check min and max feature values to ensure normalization\n",
    "\n",
    "print(\"X_train value range: {min} thru {max}\".format(max=np.max(X_train), min=np.min(X_train)))\n",
    "print(\"X_test value range: {min} thru {max}\".format(max=np.max(X_test), min=np.min(X_test)))"
   ]
  },
  {
   "cell_type": "code",
   "execution_count": 0,
   "metadata": {
    "colab": {
     "base_uri": "https://localhost:8080/",
     "height": 287
    },
    "colab_type": "code",
    "id": "Dbn1BX2MkGKd",
    "outputId": "34e949d7-0e50-489e-cc8b-29ecf806b64e"
   },
   "outputs": [
    {
     "data": {
      "text/plain": [
       "<matplotlib.image.AxesImage at 0x7f7a65afa0b8>"
      ]
     },
     "execution_count": 25,
     "metadata": {
      "tags": []
     },
     "output_type": "execute_result"
    },
    {
     "data": {
      "image/png": "[encoded data removed]",
      "text/plain": [
       "<Figure size 432x288 with 1 Axes>"
      ]
     },
     "metadata": {
      "tags": []
     },
     "output_type": "display_data"
    }
   ],
   "source": [
    "# same element as prior to normalziation of X_train \n",
    "plt.imshow(X_train[0],cmap=plt.cm.binary)"
   ]
  },
  {
   "cell_type": "code",
   "execution_count": 0,
   "metadata": {
    "colab": {
     "base_uri": "https://localhost:8080/",
     "height": 35
    },
    "colab_type": "code",
    "id": "xIf0YH5FnmZ7",
    "outputId": "65aa8554-7711-40f3-e2ad-9aaaf58b37e0"
   },
   "outputs": [
    {
     "data": {
      "text/plain": [
       "(60000, 28, 28)"
      ]
     },
     "execution_count": 72,
     "metadata": {
      "tags": []
     },
     "output_type": "execute_result"
    }
   ],
   "source": [
    "X_train.shape"
   ]
  },
  {
   "cell_type": "code",
   "execution_count": 0,
   "metadata": {
    "colab": {},
    "colab_type": "code",
    "id": "QW-trH1mrxUE"
   },
   "outputs": [],
   "source": [
    "# reshape for model input\n",
    "X_train = X_train.reshape((60000, 28, 28, 1))"
   ]
  },
  {
   "cell_type": "code",
   "execution_count": 0,
   "metadata": {
    "colab": {
     "base_uri": "https://localhost:8080/",
     "height": 35
    },
    "colab_type": "code",
    "id": "xfksAkjGs86U",
    "outputId": "e6714e4b-893d-4575-c5be-68d3bc0d2baf"
   },
   "outputs": [
    {
     "data": {
      "text/plain": [
       "(10000, 28, 28)"
      ]
     },
     "execution_count": 74,
     "metadata": {
      "tags": []
     },
     "output_type": "execute_result"
    }
   ],
   "source": [
    "X_test.shape"
   ]
  },
  {
   "cell_type": "code",
   "execution_count": 0,
   "metadata": {
    "colab": {},
    "colab_type": "code",
    "id": "JrcI4iFZs9aI"
   },
   "outputs": [],
   "source": [
    "# reshape for model input\n",
    "X_test = X_test.reshape((10000, 28, 28, 1))"
   ]
  },
  {
   "cell_type": "markdown",
   "metadata": {
    "colab_type": "text",
    "id": "3BQYYoznlgsu"
   },
   "source": [
    "***Creating CNN Model***"
   ]
  },
  {
   "cell_type": "code",
   "execution_count": 0,
   "metadata": {
    "colab": {
     "base_uri": "https://localhost:8080/",
     "height": 439
    },
    "colab_type": "code",
    "id": "fsJLqPo_kGNl",
    "outputId": "cb38acd6-00b8-4c1a-c54b-49e7f221f3b1"
   },
   "outputs": [
    {
     "name": "stdout",
     "output_type": "stream",
     "text": [
      "Model: \"sequential_5\"\n",
      "_________________________________________________________________\n",
      "Layer (type)                 Output Shape              Param #   \n",
      "=================================================================\n",
      "conv2d_3 (Conv2D)            (None, 26, 26, 32)        320       \n",
      "_________________________________________________________________\n",
      "max_pooling2d_2 (MaxPooling2 (None, 13, 13, 32)        0         \n",
      "_________________________________________________________________\n",
      "conv2d_4 (Conv2D)            (None, 11, 11, 64)        18496     \n",
      "_________________________________________________________________\n",
      "max_pooling2d_3 (MaxPooling2 (None, 5, 5, 64)          0         \n",
      "_________________________________________________________________\n",
      "conv2d_5 (Conv2D)            (None, 3, 3, 64)          36928     \n",
      "_________________________________________________________________\n",
      "flatten (Flatten)            (None, 576)               0         \n",
      "_________________________________________________________________\n",
      "dense (Dense)                (None, 64)                36928     \n",
      "_________________________________________________________________\n",
      "dense_1 (Dense)              (None, 10)                650       \n",
      "=================================================================\n",
      "Total params: 93,322\n",
      "Trainable params: 93,322\n",
      "Non-trainable params: 0\n",
      "_________________________________________________________________\n"
     ]
    }
   ],
   "source": [
    "model = models.Sequential()\n",
    "\n",
    "# convolutional base\n",
    "model.add(layers.Conv2D(32, (3, 3), activation='relu', input_shape=(28, 28, 1)))\n",
    "model.add(layers.MaxPooling2D((2, 2)))\n",
    "model.add(layers.Conv2D(64, (3, 3), activation='relu'))\n",
    "model.add(layers.MaxPooling2D((2, 2)))\n",
    "model.add(layers.Conv2D(64, (3, 3), activation='relu'))\n",
    "\n",
    "# dense layers for classification output\n",
    "model.add(layers.Flatten())\n",
    "model.add(layers.Dense(64, activation='relu'))\n",
    "model.add(layers.Dense(10, activation='softmax'))\n",
    "\n",
    "model.summary()"
   ]
  },
  {
   "cell_type": "markdown",
   "metadata": {
    "colab_type": "text",
    "id": "r6krLLQJxwc8"
   },
   "source": [
    "***Compiling and Training***"
   ]
  },
  {
   "cell_type": "code",
   "execution_count": 0,
   "metadata": {
    "colab": {
     "base_uri": "https://localhost:8080/",
     "height": 387
    },
    "colab_type": "code",
    "id": "vgC-ITHQx45L",
    "outputId": "4dcf6f7b-c166-4fb0-98b1-388248e9f11f"
   },
   "outputs": [
    {
     "name": "stdout",
     "output_type": "stream",
     "text": [
      "Epoch 1/10\n",
      "60000/60000 [==============================] - 72s 1ms/sample - loss: 0.3937 - acc: 0.8533\n",
      "Epoch 2/10\n",
      "60000/60000 [==============================] - 72s 1ms/sample - loss: 0.3357 - acc: 0.8762\n",
      "Epoch 3/10\n",
      "60000/60000 [==============================] - 79s 1ms/sample - loss: 0.2985 - acc: 0.8888\n",
      "Epoch 4/10\n",
      "60000/60000 [==============================] - 79s 1ms/sample - loss: 0.2721 - acc: 0.8985\n",
      "Epoch 5/10\n",
      "60000/60000 [==============================] - 76s 1ms/sample - loss: 0.2503 - acc: 0.9065\n",
      "Epoch 6/10\n",
      "60000/60000 [==============================] - 75s 1ms/sample - loss: 0.2312 - acc: 0.9127\n",
      "Epoch 7/10\n",
      "60000/60000 [==============================] - 76s 1ms/sample - loss: 0.2136 - acc: 0.9194\n",
      "Epoch 8/10\n",
      "60000/60000 [==============================] - 74s 1ms/sample - loss: 0.1996 - acc: 0.9241\n",
      "Epoch 9/10\n",
      "60000/60000 [==============================] - 71s 1ms/sample - loss: 0.1858 - acc: 0.9297\n",
      "Epoch 10/10\n",
      "60000/60000 [==============================] - 79s 1ms/sample - loss: 0.1735 - acc: 0.9346\n"
     ]
    },
    {
     "data": {
      "text/plain": [
       "<tensorflow.python.keras.callbacks.History at 0x7f7a607b5d30>"
      ]
     },
     "execution_count": 85,
     "metadata": {
      "tags": []
     },
     "output_type": "execute_result"
    }
   ],
   "source": [
    "model.compile(optimizer='adam', loss='sparse_categorical_crossentropy', metrics=['accuracy'])\n",
    "\n",
    "model.fit(X_train, y_train, epochs=10)"
   ]
  },
  {
   "cell_type": "markdown",
   "metadata": {
    "colab_type": "text",
    "id": "7WrjM_9d3P2K"
   },
   "source": [
    "***Model Evaluation***"
   ]
  },
  {
   "cell_type": "code",
   "execution_count": 0,
   "metadata": {
    "colab": {
     "base_uri": "https://localhost:8080/",
     "height": 35
    },
    "colab_type": "code",
    "id": "uAUPG_hM12L5",
    "outputId": "ea7468cc-d5a6-4555-b1ce-3f9ef6fd25c9"
   },
   "outputs": [
    {
     "name": "stdout",
     "output_type": "stream",
     "text": [
      "10000/10000 [==============================] - 4s 378us/sample - loss: 0.3106 - acc: 0.8980\n"
     ]
    }
   ],
   "source": [
    "test_loss, test_acc = model.evaluate(X_test, y_test)"
   ]
  },
  {
   "cell_type": "code",
   "execution_count": 0,
   "metadata": {
    "colab": {
     "base_uri": "https://localhost:8080/",
     "height": 35
    },
    "colab_type": "code",
    "id": "vNNVkKrr2NbF",
    "outputId": "83959530-9fdb-4b21-9b9f-680452fa340e"
   },
   "outputs": [
    {
     "name": "stdout",
     "output_type": "stream",
     "text": [
      "Test accuracy of CNN model on the fashion MNIST dataset is: 89.80%\n"
     ]
    }
   ],
   "source": [
    "print(\"Test accuracy of CNN model on the fashion MNIST dataset is: {:0.2f}%\".format(test_acc*100))"
   ]
  }
 ],
 "metadata": {
  "accelerator": "GPU",
  "colab": {
   "collapsed_sections": [],
   "name": "hw9_final.ipynb",
   "provenance": [],
   "version": "0.3.2"
  },
  "kernelspec": {
   "display_name": "Python 3",
   "language": "python",
   "name": "python3"
  },
  "language_info": {
   "codemirror_mode": {
    "name": "ipython",
    "version": 3
   },
   "file_extension": ".py",
   "mimetype": "text/x-python",
   "name": "python",
   "nbconvert_exporter": "python",
   "pygments_lexer": "ipython3",
   "version": "3.7.3"
  }
 },
 "nbformat": 4,
 "nbformat_minor": 1
}
