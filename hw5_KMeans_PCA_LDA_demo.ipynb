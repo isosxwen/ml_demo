{
 "cells": [
  {
   "cell_type": "code",
   "execution_count": 2,
   "metadata": {},
   "outputs": [],
   "source": [
    "import numpy as np\n",
    "import pandas as pd\n",
    "import matplotlib.pyplot as plt\n",
    "%matplotlib inline"
   ]
  },
  {
   "cell_type": "markdown",
   "metadata": {},
   "source": [
    "*__1. Study Please refer to the K means clustering implementation in ISLR text pg.  404 - 405. Generate your own data set using a similar method, but for 50 data points. Then, using Python libraries (not R) conduct the same K means clustering implementation and explain your results.__*\n"
   ]
  },
  {
   "cell_type": "code",
   "execution_count": 3,
   "metadata": {},
   "outputs": [],
   "source": [
    "X = np.random.normal(size=(50, 2))\n",
    "\n",
    "X[:25, 0] = X[:25, 0] + 3\n",
    "X[0:25, 1] = X[:25, 1] + 3\n",
    "\n",
    "X[25:, 0] = X[25:, 0] - 4\n",
    "X[25:, 1] = X[25:, 1] - 4"
   ]
  },
  {
   "cell_type": "code",
   "execution_count": 4,
   "metadata": {},
   "outputs": [],
   "source": [
    "from sklearn.cluster import KMeans\n",
    "\n",
    "km = KMeans(n_clusters=2)\n",
    "\n",
    "km = km.fit(X)\n",
    "\n",
    "labels = km.predict(X)\n",
    "\n",
    "centers = km.cluster_centers_"
   ]
  },
  {
   "cell_type": "code",
   "execution_count": 5,
   "metadata": {},
   "outputs": [
    {
     "data": {
      "text/plain": [
       "<matplotlib.collections.PathCollection at 0x7fa35ed8db38>"
      ]
     },
     "execution_count": 5,
     "metadata": {},
     "output_type": "execute_result"
    },
    {
     "data": {
      "image/png": "[encoded data removed]",
      "text/plain": [
       "<matplotlib.figure.Figure at 0x7fa35edd5a90>"
      ]
     },
     "metadata": {},
     "output_type": "display_data"
    }
   ],
   "source": [
    "plt.scatter(X[:, 0], X[:, 1], c='darkorange')\n",
    "plt.scatter(centers[:, 0], centers[:, 1], marker='*', c='b', s=200)"
   ]
  },
  {
   "cell_type": "markdown",
   "metadata": {},
   "source": [
    "_Observation:_\n",
    "\n",
    "* The first half of the dataset is shifted to the right by adding 3 to and the rest to left by subtracting 4\n",
    "* The KMeans() from Python with a n_cluster=2 calculates two centers, which are plotted on the plot above"
   ]
  },
  {
   "cell_type": "markdown",
   "metadata": {},
   "source": [
    "*__2. Principal Components Analysis. Study the Principal Components Analysis tutorial.__*\n",
    "\n",
    "*__Then conduct PCA on the modified States.XX data set.  Explain what PCA is in the context of this data set, what it does, and interpret your results.  Why is it useful?__*"
   ]
  },
  {
   "cell_type": "code",
   "execution_count": 6,
   "metadata": {},
   "outputs": [],
   "source": [
    "df = pd.read_csv('statemodx77.csv')"
   ]
  },
  {
   "cell_type": "code",
   "execution_count": 7,
   "metadata": {},
   "outputs": [],
   "source": [
    "# extracting numerical predictor vars to X\n",
    "X = df.drop(['Unnamed: 0', 'Life Exp', 'Unnamed: 9', 'region',], axis=1)"
   ]
  },
  {
   "cell_type": "code",
   "execution_count": 8,
   "metadata": {},
   "outputs": [],
   "source": [
    "# getting dummies for categorical vars\n",
    "X_dummies = pd.get_dummies(df[['Unnamed: 9', 'region']], drop_first=True)"
   ]
  },
  {
   "cell_type": "code",
   "execution_count": 9,
   "metadata": {},
   "outputs": [],
   "source": [
    "from sklearn.preprocessing import *\n",
    "\n",
    "scaler = MinMaxScaler()\n",
    "\n",
    "# normalize numerical vars\n",
    "X = scaler.fit_transform(X)"
   ]
  },
  {
   "cell_type": "code",
   "execution_count": 10,
   "metadata": {},
   "outputs": [],
   "source": [
    "# combining X numerical and dummies vars\n",
    "X = np.hstack((X, X_dummies.values))"
   ]
  },
  {
   "cell_type": "code",
   "execution_count": 11,
   "metadata": {},
   "outputs": [
    {
     "name": "stdout",
     "output_type": "stream",
     "text": [
      "Original # of predictor variables: 69\n",
      "Transformed # of predictor variables: 50\n"
     ]
    }
   ],
   "source": [
    "from sklearn.decomposition import PCA\n",
    "\n",
    "pca = PCA()\n",
    "fit = pca.fit(X)\n",
    "\n",
    "X_trans = pca.fit_transform(X)\n",
    "\n",
    "print(\"Original # of predictor variables: %s\" % X.shape[1])\n",
    "print(\"Transformed # of predictor variables: %s\" % X_trans.shape[1])"
   ]
  },
  {
   "cell_type": "code",
   "execution_count": 12,
   "metadata": {},
   "outputs": [
    {
     "data": {
      "text/plain": [
       "Text(0.5,1,'PCA Scree Plot')"
      ]
     },
     "execution_count": 12,
     "metadata": {},
     "output_type": "execute_result"
    },
    {
     "data": {
      "image/png": "[encoded data removed]",
      "text/plain": [
       "<matplotlib.figure.Figure at 0x7fa35ed45588>"
      ]
     },
     "metadata": {},
     "output_type": "display_data"
    }
   ],
   "source": [
    "var_ratio = fit.explained_variance_ratio_\n",
    "\n",
    "plt.plot(var_ratio)\n",
    "plt.scatter(x=7, y=var_ratio[7], marker='*', c='darkorange', s=300)\n",
    "plt.xlabel('dimension')\n",
    "plt.ylabel('variance ratio')\n",
    "plt.title('PCA Scree Plot')"
   ]
  },
  {
   "cell_type": "markdown",
   "metadata": {},
   "source": [
    "*_Observation:_*\n",
    "\n",
    "* The PCA reduced the number of features from 69 to 50 without any specification on n_components from the user\n",
    "* The scree plot above shows that the marginal effectiveness of adding more PCA components 'elbows' around 7\n",
    "* This information is useful when fitting a linear regression function to predict 'Life Exp'; instead of using all 69 features, we could simply select the 7 features and still be able to get an accurate prediction on 'Life Exp'\n",
    "* Unlike LDA, PCA does NOT take y or pre-existing label into consideration when conducting dimensionality reduction"
   ]
  },
  {
   "cell_type": "markdown",
   "metadata": {},
   "source": [
    "*__3. Linear Discriminants Analysis.  Study the Linear Discriminants Analysis tutorial in Python below__*\n",
    " \n",
    "*__Then conduct LDA on the modified States.XX data set.  Explain what LDA is in the context of this data set, what it does, and interpret your results.  Why is it useful?__*"
   ]
  },
  {
   "cell_type": "code",
   "execution_count": 13,
   "metadata": {
    "scrolled": true
   },
   "outputs": [],
   "source": [
    "# binning life expectancy into three categories\n",
    "exp_cat = pd.cut(df['Life Exp'], bins=3, labels=['short', 'normal', 'long'])"
   ]
  },
  {
   "cell_type": "code",
   "execution_count": 14,
   "metadata": {},
   "outputs": [],
   "source": [
    "from sklearn.preprocessing import*\n",
    "\n",
    "# relabel resp var for classification algorithm\n",
    "y = LabelEncoder().fit(exp_cat.values).transform(exp_cat.values)\n",
    "label_dict = {0:'long', 1:'normal', 2:'short'}"
   ]
  },
  {
   "cell_type": "code",
   "execution_count": 15,
   "metadata": {},
   "outputs": [],
   "source": [
    "from sklearn.model_selection import train_test_split\n",
    "\n",
    "X_train, X_test, y_train, y_test = train_test_split(X, y, random_state=0)"
   ]
  },
  {
   "cell_type": "code",
   "execution_count": 16,
   "metadata": {
    "scrolled": true
   },
   "outputs": [
    {
     "name": "stderr",
     "output_type": "stream",
     "text": [
      "/home/nbuser/anaconda3_420/lib/python3.5/site-packages/sklearn/discriminant_analysis.py:388: UserWarning: Variables are collinear.\n",
      "  warnings.warn(\"Variables are collinear.\")\n"
     ]
    },
    {
     "data": {
      "text/plain": [
       "LinearDiscriminantAnalysis(n_components=None, priors=None, shrinkage=None,\n",
       "              solver='svd', store_covariance=False, tol=0.0001)"
      ]
     },
     "execution_count": 16,
     "metadata": {},
     "output_type": "execute_result"
    }
   ],
   "source": [
    "from sklearn.discriminant_analysis import LinearDiscriminantAnalysis as LDA\n",
    "\n",
    "# create an instance of LDA\n",
    "sk_lda = LDA()\n",
    "\n",
    "# reduce feature dimension\n",
    "X_train_trans = sk_lda.fit_transform(X_train, y_train)\n",
    "X_test_trans = sk_lda.transform(X_test)\n",
    "\n",
    "# train model using reduced dimensions\n",
    "sk_lda.fit(X_train_trans, y_train)"
   ]
  },
  {
   "cell_type": "code",
   "execution_count": 17,
   "metadata": {},
   "outputs": [],
   "source": [
    "# predict classification using transformed X_test features\n",
    "y_hat = sk_lda.predict(X_test_trans)"
   ]
  },
  {
   "cell_type": "code",
   "execution_count": 18,
   "metadata": {},
   "outputs": [
    {
     "name": "stdout",
     "output_type": "stream",
     "text": [
      "Original # of predictor variables: 69\n",
      "Transformed # of predictor variables: 2\n"
     ]
    }
   ],
   "source": [
    "print(\"Original # of predictor variables: %s\" % X_train.shape[1])\n",
    "print(\"Transformed # of predictor variables: %s\" % X_train_trans.shape[1])"
   ]
  },
  {
   "cell_type": "code",
   "execution_count": 19,
   "metadata": {},
   "outputs": [],
   "source": [
    "lda_rslt = pd.DataFrame(np.vstack((y_test, y_hat)).transpose(), columns=['y', 'y_hat'])\n",
    "lda_rslt['y'] = [label_dict[i] for i in lda_rslt['y']]\n",
    "lda_rslt['y_hat'] = [label_dict[i] for i in lda_rslt['y_hat']]\n",
    "lda_rslt['accuracy'] = [1 if x == y else 0 for x, y in zip(lda_rslt['y'], lda_rslt['y_hat'])]"
   ]
  },
  {
   "cell_type": "code",
   "execution_count": 20,
   "metadata": {},
   "outputs": [
    {
     "name": "stdout",
     "output_type": "stream",
     "text": [
      "         y   y_hat  accuracy\n",
      "0   normal  normal         1\n",
      "1     long  normal         0\n",
      "2     long  normal         0\n",
      "3   normal  normal         1\n",
      "4   normal  normal         1\n",
      "5    short  normal         0\n",
      "6     long  normal         0\n",
      "7   normal  normal         1\n",
      "8     long    long         1\n",
      "9   normal  normal         1\n",
      "10    long    long         1\n",
      "11  normal  normal         1\n",
      "12    long    long         1\n",
      "\n",
      "Accuracy: 0.692308\n"
     ]
    }
   ],
   "source": [
    "print(lda_rslt)\n",
    "print(\"\\nAccuracy: %f\" % lda_rslt.accuracy.mean())"
   ]
  },
  {
   "cell_type": "markdown",
   "metadata": {},
   "source": [
    "*_Observation:_*\n",
    "\n",
    "* LDA both reduces dimension and predicts classification provided that y or pre-existing labels are given\n",
    "* In this case, LDA reduced the feature dimension from 69 to 2 and predicted classification as shown in table above\n",
    "* However, as shown in the table, the prediction doesn't appear to be promising\n",
    "* So I'll try feature transformation using PCA first and then feed that into LDA to conduct classification"
   ]
  },
  {
   "cell_type": "markdown",
   "metadata": {},
   "source": [
    "*_Using PCA to reduce dimension and LDA to classify_*"
   ]
  },
  {
   "cell_type": "code",
   "execution_count": 21,
   "metadata": {},
   "outputs": [],
   "source": [
    "# PCA \n",
    "pca2 = PCA(n_components=2)\n",
    "X_pca2 = pca2.fit_transform(X)"
   ]
  },
  {
   "cell_type": "code",
   "execution_count": 22,
   "metadata": {},
   "outputs": [],
   "source": [
    "X_train, X_test, y_train, y_test = train_test_split(X_pca2, y, random_state=0)"
   ]
  },
  {
   "cell_type": "code",
   "execution_count": 23,
   "metadata": {},
   "outputs": [],
   "source": [
    "sk_lda.fit(X_train, y_train)\n",
    "y_hat = sk_lda.predict(X_test)"
   ]
  },
  {
   "cell_type": "code",
   "execution_count": 24,
   "metadata": {},
   "outputs": [],
   "source": [
    "lda_rslt = pd.DataFrame(np.vstack((y_test, y_hat)).transpose(), columns=['y', 'y_hat'])\n",
    "lda_rslt['y'] = [label_dict[i] for i in lda_rslt['y']]\n",
    "lda_rslt['y_hat'] = [label_dict[i] for i in lda_rslt['y_hat']]\n",
    "lda_rslt['accuracy'] = [1 if x == y else 0 for x, y in zip(lda_rslt['y'], lda_rslt['y_hat'])]"
   ]
  },
  {
   "cell_type": "code",
   "execution_count": 25,
   "metadata": {},
   "outputs": [
    {
     "name": "stdout",
     "output_type": "stream",
     "text": [
      "         y   y_hat  accuracy\n",
      "0   normal  normal         1\n",
      "1     long    long         1\n",
      "2     long  normal         0\n",
      "3   normal   short         0\n",
      "4   normal  normal         1\n",
      "5    short    long         0\n",
      "6     long  normal         0\n",
      "7   normal  normal         1\n",
      "8     long    long         1\n",
      "9   normal  normal         1\n",
      "10    long    long         1\n",
      "11  normal  normal         1\n",
      "12    long    long         1\n",
      "\n",
      "Accuracy: 0.692308\n"
     ]
    }
   ],
   "source": [
    "print(lda_rslt)\n",
    "print(\"\\nAccuracy: %f\" % lda_rslt.accuracy.mean())"
   ]
  },
  {
   "cell_type": "markdown",
   "metadata": {},
   "source": [
    "*_Observation:_*\n",
    "\n",
    "* In this case, the using a combination of PCA and LDA yielded the same results as using LDA alone."
   ]
  },
  {
   "cell_type": "markdown",
   "metadata": {},
   "source": [
    "*_Observation:_*\n",
    "\n",
    "* Like PCA, LDA reduces the # of features in the dataset; however, LDA requires the input of y or pre-existing label as the algorithm takes into consideration pre-existing labels when evaluating useful features to keep\n",
    "\n",
    "* LDA reduces the dimensionality from 69 to 2 and then makes prediction about the class using transformed X_test "
   ]
  },
  {
   "cell_type": "markdown",
   "metadata": {},
   "source": [
    "*__4. Conceptual Question: ISLR Chapter 5 page 198 Answer Question #3__*"
   ]
  },
  {
   "cell_type": "markdown",
   "metadata": {},
   "source": [
    "*__(a) Explain how k-fold cross-validation is implemented.__*"
   ]
  },
  {
   "cell_type": "markdown",
   "metadata": {},
   "source": [
    "This method randomly divides the set of observations into k groups or sets of approximately equal size.  The first set is treated as a validation set, and the rest are used to train model. The first MSE is computed using the first held-out or validation set.  The procedure is then repeated k times with each holding out a different fold/set of data for validation.  The process eventually produces k estimates of the test error, and the k-fold CV estimate is computed by averaging all k estimates of the test error."
   ]
  },
  {
   "cell_type": "markdown",
   "metadata": {},
   "source": [
    "*__(b) What are the advantages and disadvantages of k-fold cross-validation relative to:__*\n",
    "\n",
    "*__i. The validation set approach?__*"
   ]
  },
  {
   "cell_type": "markdown",
   "metadata": {},
   "source": [
    "The validation set approach is simple to implement and not as computationally intensive as LOOCV because we only need to divide up the whole set into two subsets of equal/similar size.  That means we only need to repeat the process twice.  However, the flip side of validation set approach is that validation error by this approach tends to overestimate the test error for the model fit on the entire data set; in addition the errors also tend to be highly variable each time when it's performed because of the randomness of the training data and validation data."
   ]
  },
  {
   "cell_type": "markdown",
   "metadata": {},
   "source": [
    "*__ii. LOOCV?__*"
   ]
  },
  {
   "cell_type": "markdown",
   "metadata": {},
   "source": [
    "LOOCV has far less bias and tends not to overestimate the test error as much as the validation set approach.  In addition, unlike the validation set approach, LOOCV doesn't yield highly different results when the procedure is performed repeatedly as it doesn't suffer from the randomness of traning/validation set splits.  In fact, performing LOOCV will always yield the same results as there's no randomness in the training/validation set splits. However, all of these benefits do come with a cost, and that is the computational cost, which has the potential to be expensive to implement.  And this is especially of concern when the data set is large."
   ]
  }
 ],
 "metadata": {
  "kernelspec": {
   "display_name": "Python 3",
   "language": "python",
   "name": "python3"
  },
  "language_info": {
   "codemirror_mode": {
    "name": "ipython",
    "version": 3
   },
   "file_extension": ".py",
   "mimetype": "text/x-python",
   "name": "python",
   "nbconvert_exporter": "python",
   "pygments_lexer": "ipython3",
   "version": "3.7.3"
  }
 },
 "nbformat": 4,
 "nbformat_minor": 1
}
